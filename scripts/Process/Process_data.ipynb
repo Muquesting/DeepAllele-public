{
 "cells": [
  {
   "cell_type": "markdown",
   "metadata": {},
   "source": [
    "# Data processing\n",
    "\n",
    "## Overview\n",
    "\n",
    "The following are reference papers for the overall mapping strategy:\n",
    "\n",
    "https://www.ncbi.nlm.nih.gov/pmc/articles/PMC4062837/\n",
    "\n",
    "http://csbio.unc.edu/CCstatus/Media/mod_acmbcb2013.pdf\n",
    "\n",
    "http://csbio.unc.edu/CCstatus/Media/suspenders_acmbcb2013.pdf\n",
    "\n",
    "with a github overview here:\n",
    "\n",
    "https://github.com/holtjma/suspenders/wiki/Lapels-and-Suspenders-Pipeline\n",
    "\n",
    "In a nutshell, the mapping strategy is to \n",
    "\n",
    "1) create two reference \"pseudogenomes\": the standard B6 mm10 sequence and a synthetic Cast genome sequence created using a Cast vcf variant file from the mouse genome project \n",
    "\n",
    "2) map all reads to both genomes \n",
    "\n",
    "3) convert Cast mapping to corresponding B6 coordinates \n",
    "\n",
    "4) determine allele of origin for each read (3 outcomes: B6-specific, Cast specific, or equally likely) \n",
    "\n",
    "5) create final counts (all in B6 mm10 coordinates): the B6 counts consist of all B6-specific reads + random 1⁄2 of the nonspecific reads and the Cast counts consist of all Cast-specific reads + other 1⁄2 of the nonspecific reads. Everything is converted to B6 coordinates now so don't need to switch back and forth between different references and can use existing annotations.\n"
   ]
  },
  {
   "cell_type": "markdown",
   "metadata": {},
   "source": []
  }
 ],
 "metadata": {
  "language_info": {
   "name": "python"
  }
 },
 "nbformat": 4,
 "nbformat_minor": 2
}
